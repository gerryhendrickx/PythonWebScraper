{
 "cells": [
  {
   "cell_type": "markdown",
   "metadata": {},
   "source": [
    "Source: https://www.kdnuggets.com/2022/02/build-web-scraper-python-5-minutes.html"
   ]
  },
  {
   "cell_type": "code",
   "execution_count": 4,
   "metadata": {},
   "outputs": [],
   "source": [
    "import pandas as pd\n",
    "from bs4 import BeautifulSoup\n",
    "import requests"
   ]
  },
  {
   "cell_type": "code",
   "execution_count": 6,
   "metadata": {},
   "outputs": [],
   "source": [
    "f = requests.get('http://quotes.toscrape.com/')\n",
    "soup = BeautifulSoup(f.text)"
   ]
  },
  {
   "cell_type": "code",
   "execution_count": 8,
   "metadata": {},
   "outputs": [
    {
     "name": "stdout",
     "output_type": "stream",
     "text": [
      "“The world as we have created it is a process of our thinking. It cannot be changed without changing our thinking.”\n",
      "“It is our choices, Harry, that show what we truly are, far more than our abilities.”\n",
      "“There are only two ways to live your life. One is as though nothing is a miracle. The other is as though everything is a miracle.”\n",
      "“The person, be it gentleman or lady, who has not pleasure in a good novel, must be intolerably stupid.”\n",
      "“Imperfection is beauty, madness is genius and it's better to be absolutely ridiculous than absolutely boring.”\n",
      "“Try not to become a man of success. Rather become a man of value.”\n",
      "“It is better to be hated for what you are than to be loved for what you are not.”\n",
      "“I have not failed. I've just found 10,000 ways that won't work.”\n",
      "“A woman is like a tea bag; you never know how strong it is until it's in hot water.”\n",
      "“A day without sunshine is like, you know, night.”\n"
     ]
    }
   ],
   "source": [
    "for i in soup.findAll(\"div\",{\"class\":\"quote\"}):\n",
    "    print((i.find(\"span\",{\"class\":\"text\"})).text)"
   ]
  },
  {
   "cell_type": "code",
   "execution_count": 9,
   "metadata": {},
   "outputs": [
    {
     "name": "stdout",
     "output_type": "stream",
     "text": [
      "Albert Einstein\n",
      "J.K. Rowling\n",
      "Albert Einstein\n",
      "Jane Austen\n",
      "Marilyn Monroe\n",
      "Albert Einstein\n",
      "André Gide\n",
      "Thomas A. Edison\n",
      "Eleanor Roosevelt\n",
      "Steve Martin\n"
     ]
    }
   ],
   "source": [
    "for i in soup.findAll(\"div\",{\"class\":\"quote\"}):\n",
    "    print((i.find(\"small\",{\"class\":\"author\"})).text)"
   ]
  },
  {
   "cell_type": "code",
   "execution_count": 10,
   "metadata": {},
   "outputs": [
    {
     "name": "stdout",
     "output_type": "stream",
     "text": [
      "change,deep-thoughts,thinking,world\n",
      "abilities,choices\n",
      "inspirational,life,live,miracle,miracles\n",
      "aliteracy,books,classic,humor\n",
      "be-yourself,inspirational\n",
      "adulthood,success,value\n",
      "life,love\n",
      "edison,failure,inspirational,paraphrased\n",
      "misattributed-eleanor-roosevelt\n",
      "humor,obvious,simile\n"
     ]
    }
   ],
   "source": [
    "for i in soup.findAll(\"div\",{\"class\":\"tags\"}):\n",
    "    print((i.find(\"meta\"))['content'])"
   ]
  },
  {
   "cell_type": "code",
   "execution_count": 13,
   "metadata": {},
   "outputs": [],
   "source": [
    "quotes = []\n",
    "authors = []\n",
    "tags = []"
   ]
  },
  {
   "cell_type": "code",
   "execution_count": 14,
   "metadata": {},
   "outputs": [],
   "source": [
    "for pages in range(1,10):    \n",
    "    f = requests.get('http://quotes.toscrape.com/page/'+str(pages))\n",
    "    soup = BeautifulSoup(f.text)    \n",
    "    for i in soup.findAll(\"div\",{\"class\":\"quote\"}):\n",
    "        quotes.append((i.find(\"span\",{\"class\":\"text\"})).text)  \n",
    "   \n",
    "    for j in soup.findAll(\"div\",{\"class\":\"quote\"}):\n",
    "        authors.append((j.find(\"small\",{\"class\":\"author\"})).text)    \n",
    "        \n",
    "    for k in soup.findAll(\"div\",{\"class\":\"tags\"}):\n",
    "        tags.append((k.find(\"meta\"))['content'])"
   ]
  },
  {
   "cell_type": "code",
   "execution_count": 15,
   "metadata": {},
   "outputs": [],
   "source": [
    "finaldf = pd.DataFrame(\n",
    "    {'Quotes':quotes,\n",
    "     'Authors':authors,\n",
    "     'Tags':tags\n",
    "    })"
   ]
  },
  {
   "cell_type": "code",
   "execution_count": 16,
   "metadata": {},
   "outputs": [
    {
     "name": "stdout",
     "output_type": "stream",
     "text": [
      "                                              Quotes          Authors  \\\n",
      "0  “The world as we have created it is a process ...  Albert Einstein   \n",
      "1  “It is our choices, Harry, that show what we t...     J.K. Rowling   \n",
      "2  “There are only two ways to live your life. On...  Albert Einstein   \n",
      "3  “The person, be it gentleman or lady, who has ...      Jane Austen   \n",
      "4  “Imperfection is beauty, madness is genius and...   Marilyn Monroe   \n",
      "\n",
      "                                       Tags  \n",
      "0       change,deep-thoughts,thinking,world  \n",
      "1                         abilities,choices  \n",
      "2  inspirational,life,live,miracle,miracles  \n",
      "3             aliteracy,books,classic,humor  \n",
      "4                 be-yourself,inspirational  \n"
     ]
    }
   ],
   "source": [
    "print(finaldf.head())"
   ]
  }
 ],
 "metadata": {
  "interpreter": {
   "hash": "949777d72b0d2535278d3dc13498b2535136f6dfe0678499012e853ee9abcab1"
  },
  "kernelspec": {
   "display_name": "Python 3.10.2 64-bit",
   "language": "python",
   "name": "python3"
  },
  "language_info": {
   "codemirror_mode": {
    "name": "ipython",
    "version": 3
   },
   "file_extension": ".py",
   "mimetype": "text/x-python",
   "name": "python",
   "nbconvert_exporter": "python",
   "pygments_lexer": "ipython3",
   "version": "3.10.2"
  },
  "orig_nbformat": 4
 },
 "nbformat": 4,
 "nbformat_minor": 2
}
